{
 "cells": [
  {
   "cell_type": "markdown",
   "metadata": {
    "tags": []
   },
   "source": [
    "# Getting started"
   ]
  },
  {
   "cell_type": "code",
   "execution_count": 1,
   "metadata": {
    "tags": []
   },
   "outputs": [],
   "source": [
    "#!pip install neuralforecast"
   ]
  },
  {
   "cell_type": "markdown",
   "metadata": {
    "tags": []
   },
   "source": [
    "### Import libraries"
   ]
  },
  {
   "cell_type": "code",
   "execution_count": 2,
   "metadata": {},
   "outputs": [],
   "source": [
    "import neuralforecast as nf\n",
    "import numpy as np\n",
    "import pandas as pd\n",
    "import pytorch_lightning as pl\n",
    "import torch as t"
   ]
  },
  {
   "cell_type": "markdown",
   "metadata": {},
   "source": [
    "### Dataset"
   ]
  },
  {
   "cell_type": "code",
   "execution_count": 3,
   "metadata": {},
   "outputs": [
    {
     "data": {
      "text/html": [
       "<div>\n",
       "<style scoped>\n",
       "    .dataframe tbody tr th:only-of-type {\n",
       "        vertical-align: middle;\n",
       "    }\n",
       "\n",
       "    .dataframe tbody tr th {\n",
       "        vertical-align: top;\n",
       "    }\n",
       "\n",
       "    .dataframe thead th {\n",
       "        text-align: right;\n",
       "    }\n",
       "</style>\n",
       "<table border=\"1\" class=\"dataframe\">\n",
       "  <thead>\n",
       "    <tr style=\"text-align: right;\">\n",
       "      <th></th>\n",
       "      <th>unique_id</th>\n",
       "      <th>ds</th>\n",
       "      <th>y</th>\n",
       "    </tr>\n",
       "  </thead>\n",
       "  <tbody>\n",
       "    <tr>\n",
       "      <th>0</th>\n",
       "      <td>% WEIGHTED ILI</td>\n",
       "      <td>2002-01-01</td>\n",
       "      <td>-0.421499</td>\n",
       "    </tr>\n",
       "    <tr>\n",
       "      <th>1</th>\n",
       "      <td>% WEIGHTED ILI</td>\n",
       "      <td>2002-01-08</td>\n",
       "      <td>-0.331239</td>\n",
       "    </tr>\n",
       "    <tr>\n",
       "      <th>2</th>\n",
       "      <td>% WEIGHTED ILI</td>\n",
       "      <td>2002-01-15</td>\n",
       "      <td>-0.342763</td>\n",
       "    </tr>\n",
       "    <tr>\n",
       "      <th>3</th>\n",
       "      <td>% WEIGHTED ILI</td>\n",
       "      <td>2002-01-22</td>\n",
       "      <td>-0.199782</td>\n",
       "    </tr>\n",
       "    <tr>\n",
       "      <th>4</th>\n",
       "      <td>% WEIGHTED ILI</td>\n",
       "      <td>2002-01-29</td>\n",
       "      <td>-0.218426</td>\n",
       "    </tr>\n",
       "  </tbody>\n",
       "</table>\n",
       "</div>"
      ],
      "text/plain": [
       "        unique_id         ds         y\n",
       "0  % WEIGHTED ILI 2002-01-01 -0.421499\n",
       "1  % WEIGHTED ILI 2002-01-08 -0.331239\n",
       "2  % WEIGHTED ILI 2002-01-15 -0.342763\n",
       "3  % WEIGHTED ILI 2002-01-22 -0.199782\n",
       "4  % WEIGHTED ILI 2002-01-29 -0.218426"
      ]
     },
     "execution_count": 3,
     "metadata": {},
     "output_type": "execute_result"
    }
   ],
   "source": [
    "Y_df, X_df, _ = nf.data.datasets.long_horizon.LongHorizon.load('data', 'ILI')\n",
    "Y_df['ds'] = pd.to_datetime(Y_df['ds'])\n",
    "X_df['ds'] = pd.to_datetime(X_df['ds'])\n",
    "Y_df.head()"
   ]
  },
  {
   "cell_type": "markdown",
   "metadata": {},
   "source": [
    "### Split train/test sets"
   ]
  },
  {
   "cell_type": "code",
   "execution_count": 4,
   "metadata": {},
   "outputs": [],
   "source": [
    "output_size = 24\n",
    "Y_df_test = Y_df.groupby('unique_id').tail(output_size)\n",
    "Y_df_train = Y_df.drop(Y_df_test.index)\n",
    "\n",
    "X_df_train = X_df.drop(Y_df_test.index)"
   ]
  },
  {
   "cell_type": "markdown",
   "metadata": {},
   "source": [
    "### Define WindowsDataset and TimeSeriesLoader"
   ]
  },
  {
   "cell_type": "code",
   "execution_count": 5,
   "metadata": {},
   "outputs": [],
   "source": [
    "input_size = 5 * output_size"
   ]
  },
  {
   "cell_type": "code",
   "execution_count": 6,
   "metadata": {},
   "outputs": [],
   "source": [
    "train_mask_df, val_mask_df, _ = nf.experiments.utils.get_mask_dfs(\n",
    "    Y_df=Y_df_train,\n",
    "    ds_in_val=7 * output_size,\n",
    "    ds_in_test=0\n",
    ")"
   ]
  },
  {
   "cell_type": "code",
   "execution_count": 7,
   "metadata": {},
   "outputs": [],
   "source": [
    "plot_df = Y_df_train.merge(\n",
    "    train_mask_df.drop('available_mask', axis=1).rename(columns={'sample_mask': 'sample_mask_train'}),\n",
    "    how='left',\n",
    "    on=['unique_id', 'ds']\n",
    ").merge(\n",
    "    val_mask_df.drop('available_mask', axis=1).rename(columns={'sample_mask': 'sample_mask_val'}),\n",
    "    how='left',\n",
    "    on=['unique_id', 'ds']\n",
    ")"
   ]
  },
  {
   "cell_type": "code",
   "execution_count": 8,
   "metadata": {},
   "outputs": [],
   "source": [
    "plot_df['y_train'] = np.where(plot_df['sample_mask_train'] == 1, plot_df['y'], np.nan)\n",
    "plot_df['y_val'] = np.where(plot_df['sample_mask_val'] == 1, plot_df['y'], np.nan)"
   ]
  },
  {
   "cell_type": "code",
   "execution_count": 9,
   "metadata": {},
   "outputs": [
    {
     "data": {
      "text/plain": [
       "<AxesSubplot:xlabel='ds'>"
      ]
     },
     "execution_count": 9,
     "metadata": {},
     "output_type": "execute_result"
    },
    {
     "data": {
      "image/png": "[encoded data removed]",
      "text/plain": [
       "<Figure size 432x288 with 1 Axes>"
      ]
     },
     "metadata": {
      "needs_background": "light"
     },
     "output_type": "display_data"
    }
   ],
   "source": [
    "plot_df.query('unique_id == \"OT\"').set_index('ds')[['y_train', 'y_val']].plot()"
   ]
  },
  {
   "cell_type": "markdown",
   "metadata": {},
   "source": [
    "### Automatic hyperparameter optimization"
   ]
  },
  {
   "cell_type": "code",
   "execution_count": 12,
   "metadata": {},
   "outputs": [],
   "source": [
    "hyper_space = nf.models.nbeats.nbeats.suggested_space(\n",
    "    input_size, output_size, \n",
    "    n_x=4, n_s=0, \n",
    "    frequency='W-TUE'\n",
    ")"
   ]
  },
  {
   "cell_type": "code",
   "execution_count": null,
   "metadata": {},
   "outputs": [
    {
     "name": "stdout",
     "output_type": "stream",
     "text": [
      "  0%|                                                                                                                                                                | 0/20 [00:00<?, ?trial/s, best loss=?]"
     ]
    },
    {
     "name": "stderr",
     "output_type": "stream",
     "text": [
      "INFO:hyperopt.tpe:build_posterior_wrapper took 0.011679 seconds\n",
      "INFO:hyperopt.tpe:TPE using 0 trials\n"
     ]
    },
    {
     "name": "stdout",
     "output_type": "stream",
     "text": [
      "===============================================                                                                                                                                                             \n",
      "\n",
      "activation                                          ReLU                                                                                                                                                    \n",
      "batch_normalization                                False\n",
      "batch_size                                             1\n",
      "complete_windows                                    True\n",
      "dropout_prob_theta                                     0\n",
      "early_stop_patience                                   10\n",
      "eval_freq                                             50\n",
      "frequency                                          W-TUE\n",
      "idx_to_sample_freq                                     1\n",
      "initialization                              lecun_normal\n",
      "learning_rate                                      0.005\n",
      "loss_hypar                                           0.5\n",
      "loss_train                                           MAE\n",
      "loss_valid                                           MAE\n",
      "lr_decay                                             0.5\n",
      "max_epochs                                          None\n",
      "max_steps                                           5000\n",
      "mode                                              simple\n",
      "model                                             nbeats\n",
      "n_blocks                                               3\n",
      "n_layers                                               2\n",
      "n_lr_decays                                            3\n",
      "n_mlp_units                                         1024\n",
      "n_s                                                    0\n",
      "n_s_hidden                                             0\n",
      "n_time_in                                            600\n",
      "n_time_out                                           120\n",
      "n_windows                                            512\n",
      "n_x                                                    4\n",
      "n_x_hidden                                             4\n",
      "normalizer_x                                        None\n",
      "normalizer_y                                        None\n",
      "random_seed                                         15.0\n",
      "shared_weights                                     False\n",
      "stack_types               (identity, identity, identity)\n",
      "val_idx_to_sample_freq                                 1\n",
      "weight_decay                                           0\n",
      "dtype: object\n",
      "===============================================                                                                                                                                                             \n",
      "\n",
      "  0%|                                                                                                                                                                | 0/20 [00:00<?, ?trial/s, best loss=?]"
     ]
    },
    {
     "name": "stderr",
     "output_type": "stream",
     "text": [
      "INFO:root:Train Validation splits\n",
      "\n",
      "INFO:root:                                      ds           \n",
      "                                     min        max\n",
      "unique_id         sample_mask                      \n",
      "% WEIGHTED ILI    0           2016-11-01 2020-01-14\n",
      "                  1           2002-01-01 2016-10-25\n",
      "%UNWEIGHTED ILI   0           2016-11-01 2020-01-14\n",
      "                  1           2002-01-01 2016-10-25\n",
      "AGE 0-4           0           2016-11-01 2020-01-14\n",
      "                  1           2002-01-01 2016-10-25\n",
      "AGE 5-24          0           2016-11-01 2020-01-14\n",
      "                  1           2002-01-01 2016-10-25\n",
      "ILITOTAL          0           2016-11-01 2020-01-14\n",
      "                  1           2002-01-01 2016-10-25\n",
      "NUM. OF PROVIDERS 0           2016-11-01 2020-01-14\n",
      "                  1           2002-01-01 2016-10-25\n",
      "OT                0           2016-11-01 2020-01-14\n",
      "                  1           2002-01-01 2016-10-25\n",
      "INFO:root:\n",
      "Total data \t\t\t6594 time stamps \n",
      "Available percentage=100.0, \t6594 time stamps \n",
      "Insample  percentage=82.17, \t5418 time stamps \n",
      "Outsample percentage=17.83, \t1176 time stamps \n",
      "\n",
      "/Users/fedex/projects/neuralforecast/neuralforecast/data/tsdataset.py:208: FutureWarning: In a future version of pandas all arguments of DataFrame.drop except for the argument 'labels' will be keyword-only\n",
      "  X.drop(['unique_id', 'ds'], 1, inplace=True)\n",
      "\n",
      "INFO:root:Train Validation splits\n",
      "\n",
      "INFO:root:                                      ds           \n",
      "                                     min        max\n",
      "unique_id         sample_mask                      \n",
      "% WEIGHTED ILI    0           2002-01-01 2016-10-25\n",
      "                  1           2016-11-01 2020-01-14\n",
      "%UNWEIGHTED ILI   0           2002-01-01 2016-10-25\n",
      "                  1           2016-11-01 2020-01-14\n",
      "AGE 0-4           0           2002-01-01 2016-10-25\n",
      "                  1           2016-11-01 2020-01-14\n",
      "AGE 5-24          0           2002-01-01 2016-10-25\n",
      "                  1           2016-11-01 2020-01-14\n",
      "ILITOTAL          0           2002-01-01 2016-10-25\n",
      "                  1           2016-11-01 2020-01-14\n",
      "NUM. OF PROVIDERS 0           2002-01-01 2016-10-25\n",
      "                  1           2016-11-01 2020-01-14\n",
      "OT                0           2002-01-01 2016-10-25\n",
      "                  1           2016-11-01 2020-01-14\n",
      "INFO:root:\n",
      "Total data \t\t\t6594 time stamps \n",
      "Available percentage=100.0, \t6594 time stamps \n",
      "Insample  percentage=17.83, \t1176 time stamps \n",
      "Outsample percentage=82.17, \t5418 time stamps \n",
      "\n",
      "/Users/fedex/projects/neuralforecast/neuralforecast/data/tsdataset.py:208: FutureWarning: In a future version of pandas all arguments of DataFrame.drop except for the argument 'labels' will be keyword-only\n",
      "  X.drop(['unique_id', 'ds'], 1, inplace=True)\n",
      "\n",
      "INFO:root:Train Validation splits\n",
      "\n",
      "INFO:root:                                      ds           \n",
      "                                     min        max\n",
      "unique_id         sample_mask                      \n",
      "% WEIGHTED ILI    0           2002-01-01 2020-01-14\n",
      "%UNWEIGHTED ILI   0           2002-01-01 2020-01-14\n",
      "AGE 0-4           0           2002-01-01 2020-01-14\n",
      "AGE 5-24          0           2002-01-01 2020-01-14\n",
      "ILITOTAL          0           2002-01-01 2020-01-14\n",
      "NUM. OF PROVIDERS 0           2002-01-01 2020-01-14\n",
      "OT                0           2002-01-01 2020-01-14\n",
      "INFO:root:\n",
      "Total data \t\t\t6594 time stamps \n",
      "Available percentage=100.0, \t6594 time stamps \n",
      "Insample  percentage=0.0, \t0 time stamps \n",
      "Outsample percentage=100.0, \t6594 time stamps \n",
      "\n",
      "/Users/fedex/projects/neuralforecast/neuralforecast/data/tsdataset.py:208: FutureWarning: In a future version of pandas all arguments of DataFrame.drop except for the argument 'labels' will be keyword-only\n",
      "  X.drop(['unique_id', 'ds'], 1, inplace=True)\n",
      "\n",
      "/Users/fedex/opt/miniconda3/envs/neuralforecast/lib/python3.7/site-packages/pytorch_lightning/trainer/connectors/callback_connector.py:148: LightningDeprecationWarning: Setting `Trainer(checkpoint_callback=False)` is deprecated in v1.5 and will be removed in v1.7. Please consider using `Trainer(enable_checkpointing=False)`.\n",
      "  f\"Setting `Trainer(checkpoint_callback={checkpoint_callback})` is deprecated in v1.5 and will \"\n",
      "\n",
      "/Users/fedex/opt/miniconda3/envs/neuralforecast/lib/python3.7/site-packages/pytorch_lightning/trainer/connectors/callback_connector.py:91: LightningDeprecationWarning: Setting `Trainer(progress_bar_refresh_rate=1)` is deprecated in v1.5 and will be removed in v1.7. Please pass `pytorch_lightning.callbacks.progress.TQDMProgressBar` with `refresh_rate` directly to the Trainer's `callbacks` argument instead. Or, to disable the progress bar pass `enable_progress_bar = False` to the Trainer.\n",
      "  f\"Setting `Trainer(progress_bar_refresh_rate={progress_bar_refresh_rate})` is deprecated in v1.5 and\"\n",
      "\n",
      "INFO:pytorch_lightning.utilities.distributed:GPU available: False, used: False\n",
      "INFO:pytorch_lightning.utilities.distributed:TPU available: False, using: 0 TPU cores\n",
      "INFO:pytorch_lightning.utilities.distributed:IPU available: False, using: 0 IPUs\n",
      "INFO:pytorch_lightning.callbacks.model_summary:\n",
      "  | Name  | Type    | Params\n",
      "----------------------------------\n",
      "0 | model | _NBEATS | 48.2 M\n",
      "----------------------------------\n",
      "48.2 M    Trainable params\n",
      "0         Non-trainable params\n",
      "48.2 M    Total params\n",
      "192.677   Total estimated model params size (MB)\n"
     ]
    },
    {
     "data": {
      "application/vnd.jupyter.widget-view+json": {
       "model_id": "",
       "version_major": 2,
       "version_minor": 0
      },
      "text/plain": [
       "Validation sanity check: 0it [00:00, ?it/s]"
      ]
     },
     "metadata": {},
     "output_type": "display_data"
    },
    {
     "name": "stderr",
     "output_type": "stream",
     "text": [
      "/Users/fedex/opt/miniconda3/envs/neuralforecast/lib/python3.7/site-packages/pytorch_lightning/trainer/data_loading.py:133: UserWarning: The dataloader, val_dataloader 0, does not have many workers which may be a bottleneck. Consider increasing the value of the `num_workers` argument` (try 8 which is the number of cpus on this machine) in the `DataLoader` init to improve performance.\n",
      "  f\"The dataloader, {name}, does not have many workers which may be a bottleneck.\"\n",
      "\n",
      "/Users/fedex/opt/miniconda3/envs/neuralforecast/lib/python3.7/site-packages/pytorch_lightning/trainer/data_loading.py:133: UserWarning: The dataloader, train_dataloader, does not have many workers which may be a bottleneck. Consider increasing the value of the `num_workers` argument` (try 8 which is the number of cpus on this machine) in the `DataLoader` init to improve performance.\n",
      "  f\"The dataloader, {name}, does not have many workers which may be a bottleneck.\"\n",
      "\n"
     ]
    },
    {
     "data": {
      "application/vnd.jupyter.widget-view+json": {
       "model_id": "fb4b5477834d4356a6d6cf188cd3bcc5",
       "version_major": 2,
       "version_minor": 0
      },
      "text/plain": [
       "Training: 0it [00:00, ?it/s]"
      ]
     },
     "metadata": {},
     "output_type": "display_data"
    }
   ],
   "source": [
    "trials = nf.experiments.utils.hyperopt_tunning(\n",
    "    hyper_space, hyperopt_max_evals=20, \n",
    "    loss_function_val='MAE',\n",
    "    loss_functions_test='MAE', \n",
    "    S_df=None,\n",
    "    Y_df=Y_df_train,\n",
    "    X_df=X_df_train, \n",
    "    f_cols=[f'ex_{i}' for i in range(1, 5)], \n",
    "    ds_in_val=7 * output_size,\n",
    "    ds_in_test=0,\n",
    "    return_forecasts=False, \n",
    "    save_progress=False, \n",
    "    results_file='hyperopt.p'\n",
    ")"
   ]
  }
 ],
 "metadata": {
  "kernelspec": {
   "display_name": "Python 3 (ipykernel)",
   "language": "python",
   "name": "python3"
  },
  "language_info": {
   "codemirror_mode": {
    "name": "ipython",
    "version": 3
   },
   "file_extension": ".py",
   "mimetype": "text/x-python",
   "name": "python",
   "nbconvert_exporter": "python",
   "pygments_lexer": "ipython3",
   "version": "3.7.12"
  }
 },
 "nbformat": 4,
 "nbformat_minor": 4
}
